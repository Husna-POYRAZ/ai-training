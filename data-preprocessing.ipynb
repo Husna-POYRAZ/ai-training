{
 "cells": [
  {
   "cell_type": "markdown",
   "id": "7dc1ba79",
   "metadata": {},
   "source": [
    "# 1- Veri Önişleme"
   ]
  },
  {
   "cell_type": "code",
   "execution_count": 2,
   "id": "64364753",
   "metadata": {
    "ExecuteTime": {
     "end_time": "2023-12-03T10:31:44.930749Z",
     "start_time": "2023-12-03T10:31:44.908124Z"
    }
   },
   "outputs": [],
   "source": [
    "# 1- import library\n",
    "import numpy as np\n",
    "import matplotlib.pyplot as plt\n",
    "import pandas as pd"
   ]
  },
  {
   "cell_type": "code",
   "execution_count": 3,
   "id": "83a2f481",
   "metadata": {
    "ExecuteTime": {
     "end_time": "2023-12-03T10:31:44.933076Z",
     "start_time": "2023-12-03T10:31:44.912206Z"
    }
   },
   "outputs": [
    {
     "name": "stdout",
     "output_type": "stream",
     "text": [
      "DATASET\n",
      "    ulke  boy  kilo   yas cinsiyet\n",
      "0    tr  130    30  10.0        e\n",
      "1    tr  125    36  11.0        e\n",
      "2    tr  135    34  10.0        k\n",
      "3    tr  133    30   9.0        k\n",
      "4    tr  129    38  12.0        e\n",
      "5    tr  180    90  30.0        e\n",
      "6    tr  190    80  25.0        e\n",
      "7    tr  175    90  35.0        e\n",
      "8    tr  177    60  22.0        k\n",
      "9    us  185   105  33.0        e\n",
      "10   us  165    55  27.0        k\n",
      "11   us  155    50  44.0        k\n",
      "12   us  160    58   NaN        k\n",
      "13   us  162    59  41.0        k\n",
      "14   us  167    62  55.0        k\n",
      "15   fr  174    70  47.0        e\n",
      "16   fr  193    90   NaN        e\n",
      "17   fr  187    80  27.0        e\n",
      "18   fr  183    88  28.0        e\n",
      "19   fr  159    40  29.0        k\n",
      "20   fr  164    66  32.0        k\n",
      "21   fr  166    56  42.0        k\n"
     ]
    }
   ],
   "source": [
    "# 2- import dataset\n",
    "dataset = pd.read_csv(\"./dataset.csv\")\n",
    "print(\"DATASET\\n\", dataset)"
   ]
  },
  {
   "cell_type": "code",
   "execution_count": 4,
   "id": "f66ea83a",
   "metadata": {
    "ExecuteTime": {
     "end_time": "2023-12-03T10:31:44.933397Z",
     "start_time": "2023-12-03T10:31:44.922028Z"
    }
   },
   "outputs": [
    {
     "name": "stdout",
     "output_type": "stream",
     "text": [
      "    boy\n",
      "0   130\n",
      "1   125\n",
      "2   135\n",
      "3   133\n",
      "4   129\n",
      "5   180\n",
      "6   190\n",
      "7   175\n",
      "8   177\n",
      "9   185\n",
      "10  165\n",
      "11  155\n",
      "12  160\n",
      "13  162\n",
      "14  167\n",
      "15  174\n",
      "16  193\n",
      "17  187\n",
      "18  183\n",
      "19  159\n",
      "20  164\n",
      "21  166\n",
      "    boy  kilo\n",
      "0   130    30\n",
      "1   125    36\n",
      "2   135    34\n",
      "3   133    30\n",
      "4   129    38\n",
      "5   180    90\n",
      "6   190    80\n",
      "7   175    90\n",
      "8   177    60\n",
      "9   185   105\n",
      "10  165    55\n",
      "11  155    50\n",
      "12  160    58\n",
      "13  162    59\n",
      "14  167    62\n",
      "15  174    70\n",
      "16  193    90\n",
      "17  187    80\n",
      "18  183    88\n",
      "19  159    40\n",
      "20  164    66\n",
      "21  166    56\n"
     ]
    }
   ],
   "source": [
    "height = dataset[[\"boy\"]]\n",
    "print(height)\n",
    "\n",
    "heightAndWeight = dataset[[\"boy\", \"kilo\"]]\n",
    "print(heightAndWeight)"
   ]
  },
  {
   "cell_type": "code",
   "execution_count": 5,
   "id": "38821ca6",
   "metadata": {
    "ExecuteTime": {
     "end_time": "2023-12-03T10:31:45.322626Z",
     "start_time": "2023-12-03T10:31:44.925522Z"
    }
   },
   "outputs": [
    {
     "name": "stdout",
     "output_type": "stream",
     "text": [
      "[[130.  30.  10.]\n",
      " [125.  36.  11.]\n",
      " [135.  34.  10.]\n",
      " [133.  30.   9.]\n",
      " [129.  38.  12.]\n",
      " [180.  90.  30.]\n",
      " [190.  80.  25.]\n",
      " [175.  90.  35.]\n",
      " [177.  60.  22.]\n",
      " [185. 105.  33.]\n",
      " [165.  55.  27.]\n",
      " [155.  50.  44.]\n",
      " [160.  58.  nan]\n",
      " [162.  59.  41.]\n",
      " [167.  62.  55.]\n",
      " [174.  70.  47.]\n",
      " [193.  90.  nan]\n",
      " [187.  80.  27.]\n",
      " [183.  88.  28.]\n",
      " [159.  40.  29.]\n",
      " [164.  66.  32.]\n",
      " [166.  56.  42.]]\n",
      "[[130.    30.    10.  ]\n",
      " [125.    36.    11.  ]\n",
      " [135.    34.    10.  ]\n",
      " [133.    30.     9.  ]\n",
      " [129.    38.    12.  ]\n",
      " [180.    90.    30.  ]\n",
      " [190.    80.    25.  ]\n",
      " [175.    90.    35.  ]\n",
      " [177.    60.    22.  ]\n",
      " [185.   105.    33.  ]\n",
      " [165.    55.    27.  ]\n",
      " [155.    50.    44.  ]\n",
      " [160.    58.    28.45]\n",
      " [162.    59.    41.  ]\n",
      " [167.    62.    55.  ]\n",
      " [174.    70.    47.  ]\n",
      " [193.    90.    28.45]\n",
      " [187.    80.    27.  ]\n",
      " [183.    88.    28.  ]\n",
      " [159.    40.    29.  ]\n",
      " [164.    66.    32.  ]\n",
      " [166.    56.    42.  ]]\n",
      "    Height  Weight    Age\n",
      "0    130.0    30.0  10.00\n",
      "1    125.0    36.0  11.00\n",
      "2    135.0    34.0  10.00\n",
      "3    133.0    30.0   9.00\n",
      "4    129.0    38.0  12.00\n",
      "5    180.0    90.0  30.00\n",
      "6    190.0    80.0  25.00\n",
      "7    175.0    90.0  35.00\n",
      "8    177.0    60.0  22.00\n",
      "9    185.0   105.0  33.00\n",
      "10   165.0    55.0  27.00\n",
      "11   155.0    50.0  44.00\n",
      "12   160.0    58.0  28.45\n",
      "13   162.0    59.0  41.00\n",
      "14   167.0    62.0  55.00\n",
      "15   174.0    70.0  47.00\n",
      "16   193.0    90.0  28.45\n",
      "17   187.0    80.0  27.00\n",
      "18   183.0    88.0  28.00\n",
      "19   159.0    40.0  29.00\n",
      "20   164.0    66.0  32.00\n",
      "21   166.0    56.0  42.00\n"
     ]
    }
   ],
   "source": [
    "# 3- Missing Values (Eksik Veriler) \n",
    "from sklearn.impute import SimpleImputer\n",
    "imputer = SimpleImputer(missing_values=np.nan, strategy=\"mean\")\n",
    "\n",
    "#integer location = iloc\n",
    "age = dataset.iloc[:,1:4].values \n",
    "print(age)\n",
    "\n",
    "# fit() fonksiyonu ile öğrenilecek olan değer (strategy) alınır. \n",
    "imputer = imputer.fit(age[:,1:4])\n",
    "# transform ile öğrendiğin değeri, ilgili yere koy \n",
    "age[:,1:4] = imputer.transform(age[:,1:4])\n",
    "print(age)\n",
    "\n",
    "ageDataFrame = pd.DataFrame(data=age, index=range(len(age)), columns=[\"Height\", \"Weight\", \"Age\"])\n",
    "print(ageDataFrame)"
   ]
  },
  {
   "cell_type": "code",
   "execution_count": 6,
   "id": "b68e7041",
   "metadata": {
    "ExecuteTime": {
     "end_time": "2023-12-03T10:31:45.359799Z",
     "start_time": "2023-12-03T10:31:45.331826Z"
    }
   },
   "outputs": [
    {
     "name": "stdout",
     "output_type": "stream",
     "text": [
      "   ulke\n",
      "0    tr\n",
      "1    tr\n",
      "2    tr\n",
      "3    tr\n",
      "4    tr\n",
      "5    tr\n",
      "6    tr\n",
      "7    tr\n",
      "8    tr\n",
      "9    us\n",
      "10   us\n",
      "11   us\n",
      "12   us\n",
      "13   us\n",
      "14   us\n",
      "15   fr\n",
      "16   fr\n",
      "17   fr\n",
      "18   fr\n",
      "19   fr\n",
      "20   fr\n",
      "21   fr\n",
      "[[0. 1. 0.]\n",
      " [0. 1. 0.]\n",
      " [0. 1. 0.]\n",
      " [0. 1. 0.]\n",
      " [0. 1. 0.]\n",
      " [0. 1. 0.]\n",
      " [0. 1. 0.]\n",
      " [0. 1. 0.]\n",
      " [0. 1. 0.]\n",
      " [0. 0. 1.]\n",
      " [0. 0. 1.]\n",
      " [0. 0. 1.]\n",
      " [0. 0. 1.]\n",
      " [0. 0. 1.]\n",
      " [0. 0. 1.]\n",
      " [1. 0. 0.]\n",
      " [1. 0. 0.]\n",
      " [1. 0. 0.]\n",
      " [1. 0. 0.]\n",
      " [1. 0. 0.]\n",
      " [1. 0. 0.]\n",
      " [1. 0. 0.]]\n",
      "     FR   TR   US\n",
      "0   0.0  1.0  0.0\n",
      "1   0.0  1.0  0.0\n",
      "2   0.0  1.0  0.0\n",
      "3   0.0  1.0  0.0\n",
      "4   0.0  1.0  0.0\n",
      "5   0.0  1.0  0.0\n",
      "6   0.0  1.0  0.0\n",
      "7   0.0  1.0  0.0\n",
      "8   0.0  1.0  0.0\n",
      "9   0.0  0.0  1.0\n",
      "10  0.0  0.0  1.0\n",
      "11  0.0  0.0  1.0\n",
      "12  0.0  0.0  1.0\n",
      "13  0.0  0.0  1.0\n",
      "14  0.0  0.0  1.0\n",
      "15  1.0  0.0  0.0\n",
      "16  1.0  0.0  0.0\n",
      "17  1.0  0.0  0.0\n",
      "18  1.0  0.0  0.0\n",
      "19  1.0  0.0  0.0\n",
      "20  1.0  0.0  0.0\n",
      "21  1.0  0.0  0.0\n"
     ]
    }
   ],
   "source": [
    "# 4- Encoder : From Categorical Values to Numeric Values\n",
    "country = dataset.iloc[:,0:1]\n",
    "print(country)\n",
    "\n",
    "from sklearn.preprocessing import OneHotEncoder\n",
    "from sklearn.compose import ColumnTransformer\n",
    "\n",
    "# OneHotEncoder'ı bir ColumnTransformer içinde kullan\n",
    "ct = ColumnTransformer(\n",
    "    transformers=[('encoder', OneHotEncoder(), [0])],\n",
    "    remainder='passthrough'\n",
    ")\n",
    "\n",
    "country = ct.fit_transform(country)\n",
    "print(country)\n",
    "\n",
    "countryDataFrame = pd.DataFrame(data=country, index=range(len(country)), columns=[\"FR\", \"TR\", \"US\"])\n",
    "print(countryDataFrame)"
   ]
  },
  {
   "cell_type": "code",
   "execution_count": 7,
   "id": "5c7a028b",
   "metadata": {
    "ExecuteTime": {
     "end_time": "2023-12-03T10:31:45.363530Z",
     "start_time": "2023-12-03T10:31:45.349456Z"
    }
   },
   "outputs": [
    {
     "name": "stdout",
     "output_type": "stream",
     "text": [
      "['e' 'e' 'k' 'k' 'e' 'e' 'e' 'e' 'k' 'e' 'k' 'k' 'k' 'k' 'k' 'e' 'e' 'e'\n",
      " 'e' 'k' 'k' 'k']\n",
      "['M' 'M' 'F' 'F' 'M' 'M' 'M' 'M' 'F' 'M' 'F' 'F' 'F' 'F' 'F' 'M' 'M' 'M'\n",
      " 'M' 'F' 'F' 'F']\n",
      "   Sex\n",
      "0    M\n",
      "1    M\n",
      "2    F\n",
      "3    F\n",
      "4    M\n",
      "5    M\n",
      "6    M\n",
      "7    M\n",
      "8    F\n",
      "9    M\n",
      "10   F\n",
      "11   F\n",
      "12   F\n",
      "13   F\n",
      "14   F\n",
      "15   M\n",
      "16   M\n",
      "17   M\n",
      "18   M\n",
      "19   F\n",
      "20   F\n",
      "21   F\n"
     ]
    }
   ],
   "source": [
    "# 5- Dizilerden DataFrame Oluşturulması ve Verilerin Birleştirilmes\n",
    "sex = dataset.iloc[:,-1].values\n",
    "print(sex)\n",
    "\n",
    "# \"Sex\" sütunundaki değerleri değiştirme\n",
    "sex = np.where(sex == 'e', 'M', 'F')\n",
    "print(sex)\n",
    "\n",
    "sexDataFrame = pd.DataFrame(data=sex, index=range(len(sex)), columns=[\"Sex\"])\n",
    "print(sexDataFrame)"
   ]
  },
  {
   "cell_type": "code",
   "execution_count": 8,
   "id": "bfaa9c4b",
   "metadata": {
    "ExecuteTime": {
     "end_time": "2023-12-03T10:31:45.364305Z",
     "start_time": "2023-12-03T10:31:45.358661Z"
    }
   },
   "outputs": [
    {
     "name": "stdout",
     "output_type": "stream",
     "text": [
      "     FR   TR   US  Height  Weight    Age Sex\n",
      "0   0.0  1.0  0.0   130.0    30.0  10.00   M\n",
      "1   0.0  1.0  0.0   125.0    36.0  11.00   M\n",
      "2   0.0  1.0  0.0   135.0    34.0  10.00   F\n",
      "3   0.0  1.0  0.0   133.0    30.0   9.00   F\n",
      "4   0.0  1.0  0.0   129.0    38.0  12.00   M\n",
      "5   0.0  1.0  0.0   180.0    90.0  30.00   M\n",
      "6   0.0  1.0  0.0   190.0    80.0  25.00   M\n",
      "7   0.0  1.0  0.0   175.0    90.0  35.00   M\n",
      "8   0.0  1.0  0.0   177.0    60.0  22.00   F\n",
      "9   0.0  0.0  1.0   185.0   105.0  33.00   M\n",
      "10  0.0  0.0  1.0   165.0    55.0  27.00   F\n",
      "11  0.0  0.0  1.0   155.0    50.0  44.00   F\n",
      "12  0.0  0.0  1.0   160.0    58.0  28.45   F\n",
      "13  0.0  0.0  1.0   162.0    59.0  41.00   F\n",
      "14  0.0  0.0  1.0   167.0    62.0  55.00   F\n",
      "15  1.0  0.0  0.0   174.0    70.0  47.00   M\n",
      "16  1.0  0.0  0.0   193.0    90.0  28.45   M\n",
      "17  1.0  0.0  0.0   187.0    80.0  27.00   M\n",
      "18  1.0  0.0  0.0   183.0    88.0  28.00   M\n",
      "19  1.0  0.0  0.0   159.0    40.0  29.00   F\n",
      "20  1.0  0.0  0.0   164.0    66.0  32.00   F\n",
      "21  1.0  0.0  0.0   166.0    56.0  42.00   F\n",
      "     FR   TR   US  Height  Weight    Age\n",
      "0   0.0  1.0  0.0   130.0    30.0  10.00\n",
      "1   0.0  1.0  0.0   125.0    36.0  11.00\n",
      "2   0.0  1.0  0.0   135.0    34.0  10.00\n",
      "3   0.0  1.0  0.0   133.0    30.0   9.00\n",
      "4   0.0  1.0  0.0   129.0    38.0  12.00\n",
      "5   0.0  1.0  0.0   180.0    90.0  30.00\n",
      "6   0.0  1.0  0.0   190.0    80.0  25.00\n",
      "7   0.0  1.0  0.0   175.0    90.0  35.00\n",
      "8   0.0  1.0  0.0   177.0    60.0  22.00\n",
      "9   0.0  0.0  1.0   185.0   105.0  33.00\n",
      "10  0.0  0.0  1.0   165.0    55.0  27.00\n",
      "11  0.0  0.0  1.0   155.0    50.0  44.00\n",
      "12  0.0  0.0  1.0   160.0    58.0  28.45\n",
      "13  0.0  0.0  1.0   162.0    59.0  41.00\n",
      "14  0.0  0.0  1.0   167.0    62.0  55.00\n",
      "15  1.0  0.0  0.0   174.0    70.0  47.00\n",
      "16  1.0  0.0  0.0   193.0    90.0  28.45\n",
      "17  1.0  0.0  0.0   187.0    80.0  27.00\n",
      "18  1.0  0.0  0.0   183.0    88.0  28.00\n",
      "19  1.0  0.0  0.0   159.0    40.0  29.00\n",
      "20  1.0  0.0  0.0   164.0    66.0  32.00\n",
      "21  1.0  0.0  0.0   166.0    56.0  42.00\n"
     ]
    }
   ],
   "source": [
    "# Merge DataFrames\n",
    "updatedDataset = pd.concat([countryDataFrame, ageDataFrame, sexDataFrame], axis=1) # satırları yan yana ekleme\n",
    "print(updatedDataset)\n",
    "\n",
    "dataFrame = pd.concat([countryDataFrame, ageDataFrame], axis=1) \n",
    "print(dataFrame)"
   ]
  },
  {
   "cell_type": "code",
   "execution_count": 9,
   "id": "6c7b22ea",
   "metadata": {
    "scrolled": true,
    "ExecuteTime": {
     "end_time": "2023-12-03T10:31:45.375422Z",
     "start_time": "2023-12-03T10:31:45.367200Z"
    }
   },
   "outputs": [
    {
     "name": "stdout",
     "output_type": "stream",
     "text": [
      "Training Data:\n",
      "     FR   TR   US  Height  Weight    Age\n",
      "8   0.0  1.0  0.0   177.0    60.0  22.00\n",
      "6   0.0  1.0  0.0   190.0    80.0  25.00\n",
      "16  1.0  0.0  0.0   193.0    90.0  28.45\n",
      "4   0.0  1.0  0.0   129.0    38.0  12.00\n",
      "2   0.0  1.0  0.0   135.0    34.0  10.00\n",
      "5   0.0  1.0  0.0   180.0    90.0  30.00\n",
      "17  1.0  0.0  0.0   187.0    80.0  27.00\n",
      "9   0.0  0.0  1.0   185.0   105.0  33.00\n",
      "7   0.0  1.0  0.0   175.0    90.0  35.00\n",
      "18  1.0  0.0  0.0   183.0    88.0  28.00\n",
      "3   0.0  1.0  0.0   133.0    30.0   9.00\n",
      "0   0.0  1.0  0.0   130.0    30.0  10.00\n",
      "15  1.0  0.0  0.0   174.0    70.0  47.00\n",
      "12  0.0  0.0  1.0   160.0    58.0  28.45\n",
      "   Sex\n",
      "8    F\n",
      "6    M\n",
      "16   M\n",
      "4    M\n",
      "2    F\n",
      "5    M\n",
      "17   M\n",
      "9    M\n",
      "7    M\n",
      "18   M\n",
      "3    F\n",
      "0    M\n",
      "15   M\n",
      "12   F\n",
      "\n",
      "Testing Data:\n",
      "     FR   TR   US  Height  Weight   Age\n",
      "20  1.0  0.0  0.0   164.0    66.0  32.0\n",
      "10  0.0  0.0  1.0   165.0    55.0  27.0\n",
      "14  0.0  0.0  1.0   167.0    62.0  55.0\n",
      "13  0.0  0.0  1.0   162.0    59.0  41.0\n",
      "1   0.0  1.0  0.0   125.0    36.0  11.0\n",
      "21  1.0  0.0  0.0   166.0    56.0  42.0\n",
      "11  0.0  0.0  1.0   155.0    50.0  44.0\n",
      "19  1.0  0.0  0.0   159.0    40.0  29.0\n",
      "   Sex\n",
      "20   F\n",
      "10   F\n",
      "14   F\n",
      "13   F\n",
      "1    M\n",
      "21   F\n",
      "11   F\n",
      "19   F\n"
     ]
    }
   ],
   "source": [
    "# 6- Verisetinin Eğitim ve Test Verilerine Bölünmesi\n",
    "from sklearn.model_selection import train_test_split\n",
    "\n",
    "x_train, x_test, y_train, y_test = train_test_split(dataFrame, sexDataFrame, test_size=0.33, random_state=0)\n",
    "# Eğitim veri setini ve test veri setini yazdır\n",
    "print(\"Training Data:\")\n",
    "print(x_train)\n",
    "print(y_train)\n",
    "\n",
    "print(\"\\nTesting Data:\")\n",
    "print(x_test)\n",
    "print(y_test)"
   ]
  },
  {
   "cell_type": "code",
   "execution_count": 10,
   "id": "4bbca0d8",
   "metadata": {
    "scrolled": true,
    "ExecuteTime": {
     "end_time": "2023-12-03T10:31:45.381638Z",
     "start_time": "2023-12-03T10:31:45.377078Z"
    }
   },
   "outputs": [
    {
     "name": "stdout",
     "output_type": "stream",
     "text": [
      "X Training Data:\n",
      "[[-0.63245553  0.8660254  -0.40824829  0.45049444 -0.29657884 -0.24717129]\n",
      " [-0.63245553  0.8660254  -0.40824829  1.00824945  0.5096549   0.03416189]\n",
      " [ 1.58113883 -1.15470054 -0.40824829  1.13696215  0.91277178  0.35769504]\n",
      " [-0.63245553  0.8660254  -0.40824829 -1.6089087  -1.18343596 -1.18494855]\n",
      " [-0.63245553  0.8660254  -0.40824829 -1.35148331 -1.34468271 -1.372504  ]\n",
      " [-0.63245553  0.8660254  -0.40824829  0.57920713  0.91277178  0.50305051]\n",
      " [ 1.58113883 -1.15470054 -0.40824829  0.87953676  0.5096549   0.22171734]\n",
      " [-0.63245553 -1.15470054  2.44948974  0.79372829  1.51744708  0.78438369]\n",
      " [-0.63245553  0.8660254  -0.40824829  0.36468597  0.91277178  0.97193914]\n",
      " [ 1.58113883 -1.15470054 -0.40824829  0.70791983  0.8321484   0.31549506]\n",
      " [-0.63245553  0.8660254  -0.40824829 -1.43729177 -1.50592946 -1.46628173]\n",
      " [-0.63245553  0.8660254  -0.40824829 -1.56600447 -1.50592946 -1.372504  ]\n",
      " [ 1.58113883 -1.15470054 -0.40824829  0.32178174  0.10653803  2.09727185]\n",
      " [-0.63245553 -1.15470054  2.44948974 -0.27887751 -0.37720222  0.35769504]]\n",
      "\n",
      "X Testing Data:\n",
      "[[ 1.29099445 -0.37796447 -1.          0.47240026  1.32853794 -0.24991255]\n",
      " [-0.77459667 -0.37796447  1.          0.54952683  0.20439045 -0.64977262]\n",
      " [-0.77459667 -0.37796447  1.          0.70377998  0.91975703  1.58944379]\n",
      " [-0.77459667 -0.37796447  1.          0.31814711  0.61317136  0.46983559]\n",
      " [-0.77459667  2.64575131 -1.         -2.53553608 -1.73731884 -1.92932485]\n",
      " [ 1.29099445 -0.37796447 -1.          0.6266534   0.30658568  0.5498076 ]\n",
      " [-0.77459667 -0.37796447  1.         -0.2217389  -0.30658568  0.70975163]\n",
      " [ 1.29099445 -0.37796447 -1.          0.08676739 -1.32853794 -0.48982859]]\n"
     ]
    }
   ],
   "source": [
    "# 7- Öznitelik Ölçekleme\n",
    "from sklearn.preprocessing import StandardScaler\n",
    "\n",
    "sc = StandardScaler()\n",
    "\n",
    "x_train = sc.fit_transform(x_train)\n",
    "x_test = sc.fit_transform(x_test)\n",
    "\n",
    "print(\"X Training Data:\")\n",
    "print(x_train)\n",
    "print(\"\\nX Testing Data:\")\n",
    "print(x_test)"
   ]
  }
 ],
 "metadata": {
  "kernelspec": {
   "display_name": "Python 3 (ipykernel)",
   "language": "python",
   "name": "python3"
  },
  "language_info": {
   "codemirror_mode": {
    "name": "ipython",
    "version": 3
   },
   "file_extension": ".py",
   "mimetype": "text/x-python",
   "name": "python",
   "nbconvert_exporter": "python",
   "pygments_lexer": "ipython3",
   "version": "3.11.5"
  }
 },
 "nbformat": 4,
 "nbformat_minor": 5
}
